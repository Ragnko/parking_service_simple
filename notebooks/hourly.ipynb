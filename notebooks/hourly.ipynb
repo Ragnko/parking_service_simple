{
 "cells": [
  {
   "cell_type": "code",
   "execution_count": 3,
   "id": "dedc636d-1af8-4d8f-a8ce-78d670f7c821",
   "metadata": {},
   "outputs": [
    {
     "ename": "ModuleNotFoundError",
     "evalue": "No module named 'matplotlib'",
     "output_type": "error",
     "traceback": [
      "\u001b[31m---------------------------------------------------------------------------\u001b[39m",
      "\u001b[31mModuleNotFoundError\u001b[39m                       Traceback (most recent call last)",
      "\u001b[36mCell\u001b[39m\u001b[36m \u001b[39m\u001b[32mIn[3]\u001b[39m\u001b[32m, line 1\u001b[39m\n\u001b[32m----> \u001b[39m\u001b[32m1\u001b[39m \u001b[38;5;28;01mimport\u001b[39;00m\u001b[38;5;250m \u001b[39m\u001b[34;01mmatplotlib\u001b[39;00m\u001b[34;01m.\u001b[39;00m\u001b[34;01mpyplot\u001b[39;00m\u001b[38;5;250m \u001b[39m\u001b[38;5;28;01mas\u001b[39;00m\u001b[38;5;250m \u001b[39m\u001b[34;01mplt\u001b[39;00m\n\u001b[32m      2\u001b[39m \u001b[38;5;28;01mimport\u001b[39;00m\u001b[38;5;250m \u001b[39m\u001b[34;01mpandas\u001b[39;00m\u001b[38;5;250m \u001b[39m\u001b[38;5;28;01mas\u001b[39;00m\u001b[38;5;250m \u001b[39m\u001b[34;01mpd\u001b[39;00m\n",
      "\u001b[31mModuleNotFoundError\u001b[39m: No module named 'matplotlib'"
     ]
    }
   ],
   "source": [
    "import matplotlib.pyplot as plt\n",
    "import pandas as pd"
   ]
  },
  {
   "cell_type": "code",
   "execution_count": null,
   "id": "8f2f5066-430a-4890-9a21-71dc522324a3",
   "metadata": {},
   "outputs": [],
   "source": [
    "import matplotlib.pyplot as plt\n",
    "import pandas as pd\n",
    "\n",
    "\n",
    "    v1_skypark_final = pd.read_csv('skypark_cleaned.csv')\n",
    "    print(v1_skypark_final.head())\n",
    "\n",
    "    # Convert datetime columns to datetime type\n",
    "    v1_skypark_final['in_datetime'] = pd.to_datetime(v1_skypark_final['in_datetime'])\n",
    "    v1_skypark_final['out_datetime'] = pd.to_datetime(v1_skypark_final['out_datetime'])\n",
    "\n",
    "    # Create a date range from 25.8.2023 to 5.9.2023\n",
    "    date_range = pd.date_range(start='2023-08-27', end='2023-09-05', freq='D')\n",
    "\n",
    "    # Generate all 24 hours for each day\n",
    "\n",
    "    time_slots = [f\"{hour:02d}:00:00\" for hour in range(24)]\n",
    "\n",
    "    # Create a list to store results\n",
    "    results = []\n",
    "\n",
    "    # Iterate over each date and time slot\n",
    "    for date in date_range:\n",
    "        for slot in time_slots:\n",
    "            datetime_combined = pd.to_datetime(f\"{date.date()} {slot}\")\n",
    "            occupancy = v1_skypark_final[\n",
    "                (v1_skypark_final['in_datetime'] <= datetime_combined) &\n",
    "                (v1_skypark_final['out_datetime'] > datetime_combined)\n",
    "                ].shape[0]\n",
    "            results.append({'date': date.date(), 'time_slot': slot, 'occupancy': occupancy})\n",
    "\n",
    "    # Convert results to a DataFrame\n",
    "    occupancy_df = pd.DataFrame(results)\n",
    "    # Combine 'date' and 'time_slot' into a single datetime column for plotting\n",
    "    occupancy_df['datetime'] = pd.to_datetime(occupancy_df['date'].astype(str) + ' ' + occupancy_df['time_slot'])\n",
    "\n",
    "    # Plotting the occupancy chart\n",
    "    plt.figure(figsize=(12, 6))\n",
    "    plt.plot(occupancy_df['datetime'], occupancy_df['occupancy'], marker='o', label='Occupancy')\n",
    "    plt.title('Occupancy Chart')\n",
    "    plt.xlabel('Datetime')\n",
    "    plt.ylabel('Occupancy')\n",
    "    plt.grid(True)\n",
    "    plt.legend()\n",
    "    plt.xticks(rotation=45)\n",
    "    plt.tight_layout()\n",
    "\n",
    "    # Save the plot to a file\n",
    "    plt.savefig('occupancy_chart.png')\n",
    "    print(\"Chart saved as 'occupancy_chart.png'\")"
   ]
  }
 ],
 "metadata": {
  "kernelspec": {
   "display_name": "Python 3 (ipykernel)",
   "language": "python",
   "name": "python3"
  },
  "language_info": {
   "codemirror_mode": {
    "name": "ipython",
    "version": 3
   },
   "file_extension": ".py",
   "mimetype": "text/x-python",
   "name": "python",
   "nbconvert_exporter": "python",
   "pygments_lexer": "ipython3",
   "version": "3.12.11"
  }
 },
 "nbformat": 4,
 "nbformat_minor": 5
}
